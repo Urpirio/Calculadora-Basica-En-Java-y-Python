{
  "nbformat": 4,
  "nbformat_minor": 0,
  "metadata": {
    "colab": {
      "provenance": [],
      "toc_visible": true,
      "authorship_tag": "ABX9TyMosZ4fZONDkdr/7a/oUC8J",
      "include_colab_link": true
    },
    "kernelspec": {
      "name": "python3",
      "display_name": "Python 3"
    },
    "language_info": {
      "name": "python"
    }
  },
  "cells": [
    {
      "cell_type": "markdown",
      "metadata": {
        "id": "view-in-github",
        "colab_type": "text"
      },
      "source": [
        "<a href=\"https://colab.research.google.com/github/Urpirio/Calculadora-Basica-En-Java-y-Python/blob/main/Prueba_tecnica.ipynb\" target=\"_parent\"><img src=\"https://colab.research.google.com/assets/colab-badge.svg\" alt=\"Open In Colab\"/></a>"
      ]
    },
    {
      "cell_type": "code",
      "execution_count": 16,
      "metadata": {
        "colab": {
          "base_uri": "https://localhost:8080/"
        },
        "id": "gKRAHV8pBLTk",
        "outputId": "bb21168d-5a4d-4904-ea52-8a14dbe57461"
      },
      "outputs": [
        {
          "output_type": "stream",
          "name": "stdout",
          "text": [
            "Sumar(1)  Restar(2) Dividir(3) Multiplicar(4) salir(0) 0\n",
            "Se detuvo el programa\n"
          ]
        }
      ],
      "source": [
        "\n",
        "\n",
        "while True:\n",
        "  Selection = int(input(\"Sumar(1)  Restar(2) Dividir(3) Multiplicar(4) salir(0) \"))\n",
        "  if Selection ==  1:\n",
        "    Q = str(input(\"Quieres sumar? (Y/N)\"))\n",
        "    if Q == \"Y\":\n",
        "      num = int(input(\"Ingresa num1 \"))\n",
        "      num2 = int(input(\"Ingresa num2 \"))\n",
        "      print(\"Resultado\" ,(num + num2) )\n",
        "    else:\n",
        "      print(\"iras al inicio\")\n",
        "  else:\n",
        "    if Selection == 2:\n",
        "      Q = str(input(\"Quieres Restar? (Y/N)\"))\n",
        "      if Q == \"Y\":\n",
        "        num = int(input(\"Ingresa num1 \"))\n",
        "        num2 = int(input(\"Ingresa num2 \"))\n",
        "        print(\"Resultado\" ,(num - num2) )\n",
        "      else:\n",
        "        print(\"iras al Inicio\")\n",
        "    else:\n",
        "      if Selection == 3:\n",
        "        Q = str(input(\"Quieres Dividir? (Y/N)\"))\n",
        "        if Q == \"Y\":\n",
        "          num = int(input(\"Ingresa num1 \"))\n",
        "          num2 = int(input(\"Ingresa num2 \"))\n",
        "          print(\"Resultado\" ,(num / num2) )\n",
        "        else:\n",
        "          print(\"Iras al Inicio\")\n",
        "      else:\n",
        "        if Selection == 4:\n",
        "          Q = str(input(\"Quieres Multiplicar? (Y/N)\"))\n",
        "          if Q == \"Y\":\n",
        "            num = int(input(\"Ingresa num1 \"))\n",
        "            num2 = int(input(\"Ingresa num2 \"))\n",
        "            print(\"Resultado\" ,(num * num2) )\n",
        "          else:\n",
        "            print(\"Iras al Inicio\")\n",
        "        else:\n",
        "          if Selection == 0:\n",
        "            print(\"Se detuvo el programa\")\n",
        "            break\n",
        "          else:\n",
        "            print(\"Ingresa un valor valido para el menu\")\n",
        "\n",
        "\n",
        "\n",
        "\n",
        "\n",
        "\n",
        "\n"
      ]
    },
    {
      "cell_type": "code",
      "source": [
        "while True:\n",
        "  Agregar_Datos = str(input(\"Quieres agregar un dato? (Y/N)\"))\n",
        "  if Agregar_Datos == \"Y\":\n",
        "     Nombre = str(input(\"Ingresa el nombre que quieres agregar: \"))\n",
        "     num = []\n",
        "     num[:20] = Nombre\n",
        "  else:\n",
        "     Imprimir_Datos = str(input(\"Quieres ver los datos guardado? (Y/N)\"))\n",
        "     if Imprimir_Datos == \"Y\":\n",
        "        print(num[:20])\n",
        "     else:\n",
        "        print(\"volveras al menu principal\")\n"
      ],
      "metadata": {
        "colab": {
          "base_uri": "https://localhost:8080/",
          "height": 547
        },
        "id": "OUc1-BTzK4fz",
        "outputId": "c370ee61-b9c4-4b50-f555-89ce1f8d070b"
      },
      "execution_count": 7,
      "outputs": [
        {
          "output_type": "stream",
          "name": "stdout",
          "text": [
            "Quieres agregar un dato? (Y/N)Y\n",
            "Ingresa el nombre que quieres agregar: \n",
            "Quieres agregar un dato? (Y/N)n\n",
            "Quieres ver los datos guardado? (Y/N)N\n",
            "volveras al menu principal\n",
            "Quieres agregar un dato? (Y/N)Y\n",
            "Ingresa el nombre que quieres agregar: Nashla\n",
            "Quieres agregar un dato? (Y/N)N\n",
            "Quieres ver los datos guardado? (Y/N)Y\n",
            "['N', 'a', 's', 'h', 'l', 'a']\n"
          ]
        },
        {
          "output_type": "error",
          "ename": "KeyboardInterrupt",
          "evalue": "Interrupted by user",
          "traceback": [
            "\u001b[0;31m---------------------------------------------------------------------------\u001b[0m",
            "\u001b[0;31mKeyboardInterrupt\u001b[0m                         Traceback (most recent call last)",
            "\u001b[0;32m<ipython-input-7-e46e836fea50>\u001b[0m in \u001b[0;36m<cell line: 0>\u001b[0;34m()\u001b[0m\n\u001b[1;32m      1\u001b[0m \u001b[0;32mwhile\u001b[0m \u001b[0;32mTrue\u001b[0m\u001b[0;34m:\u001b[0m\u001b[0;34m\u001b[0m\u001b[0;34m\u001b[0m\u001b[0m\n\u001b[0;32m----> 2\u001b[0;31m   \u001b[0mAgregar_Datos\u001b[0m \u001b[0;34m=\u001b[0m \u001b[0mstr\u001b[0m\u001b[0;34m(\u001b[0m\u001b[0minput\u001b[0m\u001b[0;34m(\u001b[0m\u001b[0;34m\"Quieres agregar un dato? (Y/N)\"\u001b[0m\u001b[0;34m)\u001b[0m\u001b[0;34m)\u001b[0m\u001b[0;34m\u001b[0m\u001b[0;34m\u001b[0m\u001b[0m\n\u001b[0m\u001b[1;32m      3\u001b[0m   \u001b[0;32mif\u001b[0m \u001b[0mAgregar_Datos\u001b[0m \u001b[0;34m==\u001b[0m \u001b[0;34m\"Y\"\u001b[0m\u001b[0;34m:\u001b[0m\u001b[0;34m\u001b[0m\u001b[0;34m\u001b[0m\u001b[0m\n\u001b[1;32m      4\u001b[0m      \u001b[0mNombre\u001b[0m \u001b[0;34m=\u001b[0m \u001b[0mstr\u001b[0m\u001b[0;34m(\u001b[0m\u001b[0minput\u001b[0m\u001b[0;34m(\u001b[0m\u001b[0;34m\"Ingresa el nombre que quieres agregar: \"\u001b[0m\u001b[0;34m)\u001b[0m\u001b[0;34m)\u001b[0m\u001b[0;34m\u001b[0m\u001b[0;34m\u001b[0m\u001b[0m\n\u001b[1;32m      5\u001b[0m      \u001b[0mnum\u001b[0m \u001b[0;34m=\u001b[0m \u001b[0;34m[\u001b[0m\u001b[0;34m]\u001b[0m\u001b[0;34m\u001b[0m\u001b[0;34m\u001b[0m\u001b[0m\n",
            "\u001b[0;32m/usr/local/lib/python3.11/dist-packages/ipykernel/kernelbase.py\u001b[0m in \u001b[0;36mraw_input\u001b[0;34m(self, prompt)\u001b[0m\n\u001b[1;32m    849\u001b[0m                 \u001b[0;34m\"raw_input was called, but this frontend does not support input requests.\"\u001b[0m\u001b[0;34m\u001b[0m\u001b[0;34m\u001b[0m\u001b[0m\n\u001b[1;32m    850\u001b[0m             )\n\u001b[0;32m--> 851\u001b[0;31m         return self._input_request(str(prompt),\n\u001b[0m\u001b[1;32m    852\u001b[0m             \u001b[0mself\u001b[0m\u001b[0;34m.\u001b[0m\u001b[0m_parent_ident\u001b[0m\u001b[0;34m,\u001b[0m\u001b[0;34m\u001b[0m\u001b[0;34m\u001b[0m\u001b[0m\n\u001b[1;32m    853\u001b[0m             \u001b[0mself\u001b[0m\u001b[0;34m.\u001b[0m\u001b[0m_parent_header\u001b[0m\u001b[0;34m,\u001b[0m\u001b[0;34m\u001b[0m\u001b[0;34m\u001b[0m\u001b[0m\n",
            "\u001b[0;32m/usr/local/lib/python3.11/dist-packages/ipykernel/kernelbase.py\u001b[0m in \u001b[0;36m_input_request\u001b[0;34m(self, prompt, ident, parent, password)\u001b[0m\n\u001b[1;32m    893\u001b[0m             \u001b[0;32mexcept\u001b[0m \u001b[0mKeyboardInterrupt\u001b[0m\u001b[0;34m:\u001b[0m\u001b[0;34m\u001b[0m\u001b[0;34m\u001b[0m\u001b[0m\n\u001b[1;32m    894\u001b[0m                 \u001b[0;31m# re-raise KeyboardInterrupt, to truncate traceback\u001b[0m\u001b[0;34m\u001b[0m\u001b[0;34m\u001b[0m\u001b[0m\n\u001b[0;32m--> 895\u001b[0;31m                 \u001b[0;32mraise\u001b[0m \u001b[0mKeyboardInterrupt\u001b[0m\u001b[0;34m(\u001b[0m\u001b[0;34m\"Interrupted by user\"\u001b[0m\u001b[0;34m)\u001b[0m \u001b[0;32mfrom\u001b[0m \u001b[0;32mNone\u001b[0m\u001b[0;34m\u001b[0m\u001b[0;34m\u001b[0m\u001b[0m\n\u001b[0m\u001b[1;32m    896\u001b[0m             \u001b[0;32mexcept\u001b[0m \u001b[0mException\u001b[0m \u001b[0;32mas\u001b[0m \u001b[0me\u001b[0m\u001b[0;34m:\u001b[0m\u001b[0;34m\u001b[0m\u001b[0;34m\u001b[0m\u001b[0m\n\u001b[1;32m    897\u001b[0m                 \u001b[0mself\u001b[0m\u001b[0;34m.\u001b[0m\u001b[0mlog\u001b[0m\u001b[0;34m.\u001b[0m\u001b[0mwarning\u001b[0m\u001b[0;34m(\u001b[0m\u001b[0;34m\"Invalid Message:\"\u001b[0m\u001b[0;34m,\u001b[0m \u001b[0mexc_info\u001b[0m\u001b[0;34m=\u001b[0m\u001b[0;32mTrue\u001b[0m\u001b[0;34m)\u001b[0m\u001b[0;34m\u001b[0m\u001b[0;34m\u001b[0m\u001b[0m\n",
            "\u001b[0;31mKeyboardInterrupt\u001b[0m: Interrupted by user"
          ]
        }
      ]
    }
  ]
}